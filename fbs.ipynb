{
 "cells": [
  {
   "cell_type": "code",
   "execution_count": 3,
   "metadata": {},
   "outputs": [],
   "source": [
    "import pandas as pd\n",
    "import numpy as np"
   ]
  },
  {
   "cell_type": "code",
   "execution_count": 4,
   "metadata": {},
   "outputs": [
    {
     "data": {
      "text/html": [
       "<div>\n",
       "<style scoped>\n",
       "    .dataframe tbody tr th:only-of-type {\n",
       "        vertical-align: middle;\n",
       "    }\n",
       "\n",
       "    .dataframe tbody tr th {\n",
       "        vertical-align: top;\n",
       "    }\n",
       "\n",
       "    .dataframe thead th {\n",
       "        text-align: right;\n",
       "    }\n",
       "</style>\n",
       "<table border=\"1\" class=\"dataframe\">\n",
       "  <thead>\n",
       "    <tr style=\"text-align: right;\">\n",
       "      <th></th>\n",
       "      <th>FlightNumber</th>\n",
       "      <th>Origin</th>\n",
       "      <th>Destination</th>\n",
       "      <th>Date</th>\n",
       "      <th>Seats</th>\n",
       "    </tr>\n",
       "  </thead>\n",
       "  <tbody>\n",
       "    <tr>\n",
       "      <th>0</th>\n",
       "      <td>FL001</td>\n",
       "      <td>JFK</td>\n",
       "      <td>LAX</td>\n",
       "      <td>2023-06-10</td>\n",
       "      <td>199</td>\n",
       "    </tr>\n",
       "    <tr>\n",
       "      <th>1</th>\n",
       "      <td>FL002</td>\n",
       "      <td>LAX</td>\n",
       "      <td>JFK</td>\n",
       "      <td>2023-06-12</td>\n",
       "      <td>149</td>\n",
       "    </tr>\n",
       "    <tr>\n",
       "      <th>2</th>\n",
       "      <td>FL003</td>\n",
       "      <td>JFK</td>\n",
       "      <td>SFO</td>\n",
       "      <td>2023-06-10</td>\n",
       "      <td>179</td>\n",
       "    </tr>\n",
       "    <tr>\n",
       "      <th>3</th>\n",
       "      <td>FL004</td>\n",
       "      <td>SFO</td>\n",
       "      <td>JFK</td>\n",
       "      <td>2023-06-15</td>\n",
       "      <td>220</td>\n",
       "    </tr>\n",
       "    <tr>\n",
       "      <th>4</th>\n",
       "      <td>FL005</td>\n",
       "      <td>JFK</td>\n",
       "      <td>ORD</td>\n",
       "      <td>2023-06-11</td>\n",
       "      <td>190</td>\n",
       "    </tr>\n",
       "  </tbody>\n",
       "</table>\n",
       "</div>"
      ],
      "text/plain": [
       "  FlightNumber Origin Destination        Date  Seats\n",
       "0        FL001    JFK         LAX  2023-06-10    199\n",
       "1        FL002    LAX         JFK  2023-06-12    149\n",
       "2        FL003    JFK         SFO  2023-06-10    179\n",
       "3        FL004    SFO         JFK  2023-06-15    220\n",
       "4        FL005    JFK         ORD  2023-06-11    190"
      ]
     },
     "execution_count": 4,
     "metadata": {},
     "output_type": "execute_result"
    }
   ],
   "source": [
    "flights = pd.read_csv('data/flights.csv')\n",
    "flights.head()"
   ]
  },
  {
   "cell_type": "code",
   "execution_count": 5,
   "metadata": {},
   "outputs": [
    {
     "data": {
      "text/html": [
       "<div>\n",
       "<style scoped>\n",
       "    .dataframe tbody tr th:only-of-type {\n",
       "        vertical-align: middle;\n",
       "    }\n",
       "\n",
       "    .dataframe tbody tr th {\n",
       "        vertical-align: top;\n",
       "    }\n",
       "\n",
       "    .dataframe thead th {\n",
       "        text-align: right;\n",
       "    }\n",
       "</style>\n",
       "<table border=\"1\" class=\"dataframe\">\n",
       "  <thead>\n",
       "    <tr style=\"text-align: right;\">\n",
       "      <th></th>\n",
       "      <th>BookingID</th>\n",
       "      <th>FlightNumber</th>\n",
       "      <th>SeatNumber</th>\n",
       "    </tr>\n",
       "  </thead>\n",
       "  <tbody>\n",
       "    <tr>\n",
       "      <th>0</th>\n",
       "      <td>B001</td>\n",
       "      <td>FL001</td>\n",
       "      <td>12</td>\n",
       "    </tr>\n",
       "    <tr>\n",
       "      <th>1</th>\n",
       "      <td>B002</td>\n",
       "      <td>FL002</td>\n",
       "      <td>8</td>\n",
       "    </tr>\n",
       "    <tr>\n",
       "      <th>2</th>\n",
       "      <td>B003</td>\n",
       "      <td>FL003</td>\n",
       "      <td>15</td>\n",
       "    </tr>\n",
       "  </tbody>\n",
       "</table>\n",
       "</div>"
      ],
      "text/plain": [
       "  BookingID FlightNumber  SeatNumber\n",
       "0      B001        FL001          12\n",
       "1      B002        FL002           8\n",
       "2      B003        FL003          15"
      ]
     },
     "execution_count": 5,
     "metadata": {},
     "output_type": "execute_result"
    }
   ],
   "source": [
    "bookings = pd.read_csv('data/bookings.csv')\n",
    "bookings.head()"
   ]
  },
  {
   "cell_type": "code",
   "execution_count": 6,
   "metadata": {},
   "outputs": [
    {
     "data": {
      "text/plain": [
       "{'ATL',\n",
       " 'BOS',\n",
       " 'BWI',\n",
       " 'CLT',\n",
       " 'DCA',\n",
       " 'DEN',\n",
       " 'DFW',\n",
       " 'FLL',\n",
       " 'HNL',\n",
       " 'IAD',\n",
       " 'IAH',\n",
       " 'JFK',\n",
       " 'LAS',\n",
       " 'LAX',\n",
       " 'MCO',\n",
       " 'MIA',\n",
       " 'MSP',\n",
       " 'ORD',\n",
       " 'PDX',\n",
       " 'PHX',\n",
       " 'SAN',\n",
       " 'SEA',\n",
       " 'SFO',\n",
       " 'SJC',\n",
       " 'TPA'}"
      ]
     },
     "execution_count": 6,
     "metadata": {},
     "output_type": "execute_result"
    }
   ],
   "source": [
    "airports = set(flights['Origin'])\n",
    "airports.update(flights['Destination'])\n",
    "airports"
   ]
  },
  {
   "attachments": {},
   "cell_type": "markdown",
   "metadata": {},
   "source": [
    "# Flight Search"
   ]
  },
  {
   "cell_type": "code",
   "execution_count": 7,
   "metadata": {},
   "outputs": [],
   "source": [
    "def flight_search():\n",
    "    while True:\n",
    "        origin = input(\"Origin? \")\n",
    "        destination = input(\"Destination? \")\n",
    "        date = input(\"Travel date? (YYYY-MM-DD) \")\n",
    "        \n",
    "        if origin not in airports or destination not in airports:\n",
    "            print(\"Invalid airport code.\")\n",
    "            continue\n",
    "        \n",
    "        try:\n",
    "            pd.to_datetime(date)\n",
    "        except ValueError:\n",
    "            print(\"Invalid date format. Please enter a date in the format YYYY-MM-DD.\")\n",
    "            continue\n",
    "        \n",
    "        matching_flights = flights[\n",
    "            (flights['Origin'] == origin.upper()) &\n",
    "            (flights['Destination'] == destination.upper()) &\n",
    "            (flights['Date'] == date)\n",
    "        ]\n",
    "        \n",
    "        if matching_flights.empty:\n",
    "            print(\"No flights!!\")\n",
    "        else:\n",
    "            print(\"Available flights:\")\n",
    "            print(matching_flights)\n",
    "            break"
   ]
  },
  {
   "cell_type": "code",
   "execution_count": 8,
   "metadata": {},
   "outputs": [
    {
     "name": "stdout",
     "output_type": "stream",
     "text": [
      "No flights!!\n",
      "Available flights:\n",
      "  FlightNumber Origin Destination        Date  Seats\n",
      "0        FL001    JFK         LAX  2023-06-10    199\n"
     ]
    }
   ],
   "source": [
    "flight_search()"
   ]
  },
  {
   "attachments": {},
   "cell_type": "markdown",
   "metadata": {},
   "source": [
    "# Flight Selection"
   ]
  },
  {
   "cell_type": "code",
   "execution_count": 9,
   "metadata": {},
   "outputs": [],
   "source": [
    "selected_flight = None\n",
    "\n",
    "def flight_selection():\n",
    "    global selected_flight\n",
    "    \n",
    "    while True:\n",
    "        flight_number = input(\"Flight number? \")\n",
    "        \n",
    "        if flight_number not in flights['FlightNumber'].values:\n",
    "            print(\"Invalid flight number!\")\n",
    "            continue\n",
    "        \n",
    "        selected_flight = flights[flights['FlightNumber'] == flight_number]\n",
    "        \n",
    "        if selected_flight.empty:\n",
    "            print(\"No flight found for the given flight number. Please try again.\")\n",
    "        else:\n",
    "            print(\"Selected flight:\")\n",
    "            print(selected_flight)\n",
    "            break\n"
   ]
  },
  {
   "cell_type": "code",
   "execution_count": 33,
   "metadata": {},
   "outputs": [
    {
     "name": "stdout",
     "output_type": "stream",
     "text": [
      "Selected flight:\n",
      "  FlightNumber Origin Destination        Date  Seats\n",
      "3        FL004    SFO         JFK  2023-06-15    220\n"
     ]
    }
   ],
   "source": [
    "flight_selection()"
   ]
  },
  {
   "cell_type": "code",
   "execution_count": 11,
   "metadata": {},
   "outputs": [],
   "source": [
    "def booking_confirmation():\n",
    "    print('Booking Confirmation:')\n",
    "    print(bookings.iloc[-1])\n",
    "    print(flights[flights['FlightNumber']==bookings.iloc[-1]['FlightNumber']])"
   ]
  },
  {
   "cell_type": "code",
   "execution_count": 31,
   "metadata": {},
   "outputs": [],
   "source": [
    "def seat_selection():\n",
    "    global selected_flight\n",
    "    global flights\n",
    "    global bookings\n",
    "    \n",
    "    if selected_flight is None:\n",
    "        print(\"No flight has been selected.\")\n",
    "        return\n",
    "    \n",
    "    flight_number = selected_flight['FlightNumber'].values[0]\n",
    "    seat_number = input(\"Seat number? \")\n",
    "    \n",
    "    if bookings[(bookings['FlightNumber'] == flight_number) & (bookings['SeatNumber'] == seat_number)].shape[0] > 0:\n",
    "        print(\"Seat is already booked. Please choose another seat.\")\n",
    "        return\n",
    "    \n",
    "    booking_details = pd.DataFrame({\n",
    "        'BookingID': bookings['BookingID'].values[-1][:-1] + str(int(bookings['BookingID'].values[-1][-1]) + 1),\n",
    "        'FlightNumber': flight_number,\n",
    "        'SeatNumber': seat_number,\n",
    "    }, index=[bookings.size//3])\n",
    "    \n",
    "    bookings = pd.concat([bookings, booking_details])\n",
    "    print(\"Booked!\")\n",
    "    booking_confirmation()\n",
    "\n",
    "    flights.loc[flights['FlightNumber'] == flight_number, 'Seats'] -= 1"
   ]
  },
  {
   "cell_type": "code",
   "execution_count": 39,
   "metadata": {},
   "outputs": [
    {
     "name": "stdout",
     "output_type": "stream",
     "text": [
      "Booked!\n",
      "Booking Confirmation:\n",
      "BookingID       B0013\n",
      "FlightNumber    FL004\n",
      "SeatNumber          6\n",
      "Name: 11, dtype: object\n",
      "  FlightNumber Origin Destination        Date  Seats\n",
      "3        FL004    SFO         JFK  2023-06-15    215\n"
     ]
    }
   ],
   "source": [
    "seat_selection()"
   ]
  },
  {
   "cell_type": "code",
   "execution_count": 14,
   "metadata": {},
   "outputs": [
    {
     "data": {
      "text/html": [
       "<div>\n",
       "<style scoped>\n",
       "    .dataframe tbody tr th:only-of-type {\n",
       "        vertical-align: middle;\n",
       "    }\n",
       "\n",
       "    .dataframe tbody tr th {\n",
       "        vertical-align: top;\n",
       "    }\n",
       "\n",
       "    .dataframe thead th {\n",
       "        text-align: right;\n",
       "    }\n",
       "</style>\n",
       "<table border=\"1\" class=\"dataframe\">\n",
       "  <thead>\n",
       "    <tr style=\"text-align: right;\">\n",
       "      <th></th>\n",
       "      <th>FlightNumber</th>\n",
       "      <th>Origin</th>\n",
       "      <th>Destination</th>\n",
       "      <th>Date</th>\n",
       "      <th>Seats</th>\n",
       "    </tr>\n",
       "  </thead>\n",
       "  <tbody>\n",
       "    <tr>\n",
       "      <th>0</th>\n",
       "      <td>FL001</td>\n",
       "      <td>JFK</td>\n",
       "      <td>LAX</td>\n",
       "      <td>2023-06-10</td>\n",
       "      <td>198</td>\n",
       "    </tr>\n",
       "  </tbody>\n",
       "</table>\n",
       "</div>"
      ],
      "text/plain": [
       "  FlightNumber Origin Destination        Date  Seats\n",
       "0        FL001    JFK         LAX  2023-06-10    198"
      ]
     },
     "execution_count": 14,
     "metadata": {},
     "output_type": "execute_result"
    }
   ],
   "source": [
    "flights[flights['FlightNumber']==selected_flight['FlightNumber'].values[0]]"
   ]
  },
  {
   "cell_type": "code",
   "execution_count": 27,
   "metadata": {},
   "outputs": [
    {
     "name": "stdout",
     "output_type": "stream",
     "text": [
      "  BookingID FlightNumber SeatNumber\n",
      "1      B002        FL002          8\n",
      "2      B003        FL003         15\n",
      "3      B004        FL001          1\n",
      "3      B005        FL001          2\n",
      "4      B006        FL001          3\n"
     ]
    }
   ],
   "source": [
    "def view_bookings():\n",
    "    print(bookings)\n",
    "view_bookings()"
   ]
  },
  {
   "cell_type": "code",
   "execution_count": 16,
   "metadata": {},
   "outputs": [],
   "source": [
    "def cancel_booking():\n",
    "    global bookings\n",
    "    global flights\n",
    "\n",
    "    booking_id = input('Booking ID? ')\n",
    "    \n",
    "    if booking_id not in bookings['BookingID'].values:\n",
    "        print(\"Invalid Booking ID!\")\n",
    "        return\n",
    "    \n",
    "    flight_number = bookings.loc[bookings['BookingID'] == booking_id, 'FlightNumber'].values[0]\n",
    "    seat_number = bookings.loc[bookings['BookingID'] == booking_id, 'SeatNumber'].values[0]\n",
    "    \n",
    "    flights.loc[flights['FlightNumber'] == flight_number, 'Seats'] += 1\n",
    "    bookings = bookings[bookings['BookingID'] != booking_id]\n",
    "    \n",
    "    print(\"Booking cancelled successfully.\")\n",
    "    print(f\"Flight number: {flight_number}\")\n",
    "    print(f\"Seat number: {seat_number}\")"
   ]
  },
  {
   "cell_type": "code",
   "execution_count": 17,
   "metadata": {},
   "outputs": [
    {
     "name": "stdout",
     "output_type": "stream",
     "text": [
      "Booking cancelled successfully.\n",
      "Flight number: FL001\n",
      "Seat number: 12\n"
     ]
    }
   ],
   "source": [
    "cancel_booking()"
   ]
  },
  {
   "cell_type": "code",
   "execution_count": 40,
   "metadata": {},
   "outputs": [
    {
     "data": {
      "text/html": [
       "<div>\n",
       "<style scoped>\n",
       "    .dataframe tbody tr th:only-of-type {\n",
       "        vertical-align: middle;\n",
       "    }\n",
       "\n",
       "    .dataframe tbody tr th {\n",
       "        vertical-align: top;\n",
       "    }\n",
       "\n",
       "    .dataframe thead th {\n",
       "        text-align: right;\n",
       "    }\n",
       "</style>\n",
       "<table border=\"1\" class=\"dataframe\">\n",
       "  <thead>\n",
       "    <tr style=\"text-align: right;\">\n",
       "      <th></th>\n",
       "      <th>BookingID</th>\n",
       "      <th>FlightNumber</th>\n",
       "      <th>SeatNumber</th>\n",
       "    </tr>\n",
       "  </thead>\n",
       "  <tbody>\n",
       "    <tr>\n",
       "      <th>1</th>\n",
       "      <td>B002</td>\n",
       "      <td>FL002</td>\n",
       "      <td>8</td>\n",
       "    </tr>\n",
       "    <tr>\n",
       "      <th>2</th>\n",
       "      <td>B003</td>\n",
       "      <td>FL003</td>\n",
       "      <td>15</td>\n",
       "    </tr>\n",
       "    <tr>\n",
       "      <th>3</th>\n",
       "      <td>B004</td>\n",
       "      <td>FL001</td>\n",
       "      <td>1</td>\n",
       "    </tr>\n",
       "    <tr>\n",
       "      <th>3</th>\n",
       "      <td>B005</td>\n",
       "      <td>FL001</td>\n",
       "      <td>2</td>\n",
       "    </tr>\n",
       "    <tr>\n",
       "      <th>4</th>\n",
       "      <td>B006</td>\n",
       "      <td>FL001</td>\n",
       "      <td>3</td>\n",
       "    </tr>\n",
       "    <tr>\n",
       "      <th>5</th>\n",
       "      <td>B007</td>\n",
       "      <td>FL001</td>\n",
       "      <td>4</td>\n",
       "    </tr>\n",
       "    <tr>\n",
       "      <th>6</th>\n",
       "      <td>B008</td>\n",
       "      <td>FL004</td>\n",
       "      <td>1</td>\n",
       "    </tr>\n",
       "    <tr>\n",
       "      <th>7</th>\n",
       "      <td>B009</td>\n",
       "      <td>FL004</td>\n",
       "      <td>2</td>\n",
       "    </tr>\n",
       "    <tr>\n",
       "      <th>8</th>\n",
       "      <td>B0010</td>\n",
       "      <td>FL004</td>\n",
       "      <td>3</td>\n",
       "    </tr>\n",
       "    <tr>\n",
       "      <th>9</th>\n",
       "      <td>B0011</td>\n",
       "      <td>FL004</td>\n",
       "      <td>4</td>\n",
       "    </tr>\n",
       "    <tr>\n",
       "      <th>10</th>\n",
       "      <td>B0012</td>\n",
       "      <td>FL004</td>\n",
       "      <td>5</td>\n",
       "    </tr>\n",
       "    <tr>\n",
       "      <th>11</th>\n",
       "      <td>B0013</td>\n",
       "      <td>FL004</td>\n",
       "      <td>6</td>\n",
       "    </tr>\n",
       "  </tbody>\n",
       "</table>\n",
       "</div>"
      ],
      "text/plain": [
       "   BookingID FlightNumber SeatNumber\n",
       "1       B002        FL002          8\n",
       "2       B003        FL003         15\n",
       "3       B004        FL001          1\n",
       "3       B005        FL001          2\n",
       "4       B006        FL001          3\n",
       "5       B007        FL001          4\n",
       "6       B008        FL004          1\n",
       "7       B009        FL004          2\n",
       "8      B0010        FL004          3\n",
       "9      B0011        FL004          4\n",
       "10     B0012        FL004          5\n",
       "11     B0013        FL004          6"
      ]
     },
     "execution_count": 40,
     "metadata": {},
     "output_type": "execute_result"
    }
   ],
   "source": [
    "bookings"
   ]
  },
  {
   "cell_type": "code",
   "execution_count": 19,
   "metadata": {},
   "outputs": [
    {
     "data": {
      "text/html": [
       "<div>\n",
       "<style scoped>\n",
       "    .dataframe tbody tr th:only-of-type {\n",
       "        vertical-align: middle;\n",
       "    }\n",
       "\n",
       "    .dataframe tbody tr th {\n",
       "        vertical-align: top;\n",
       "    }\n",
       "\n",
       "    .dataframe thead th {\n",
       "        text-align: right;\n",
       "    }\n",
       "</style>\n",
       "<table border=\"1\" class=\"dataframe\">\n",
       "  <thead>\n",
       "    <tr style=\"text-align: right;\">\n",
       "      <th></th>\n",
       "      <th>FlightNumber</th>\n",
       "      <th>Origin</th>\n",
       "      <th>Destination</th>\n",
       "      <th>Date</th>\n",
       "      <th>Seats</th>\n",
       "    </tr>\n",
       "  </thead>\n",
       "  <tbody>\n",
       "    <tr>\n",
       "      <th>0</th>\n",
       "      <td>FL001</td>\n",
       "      <td>JFK</td>\n",
       "      <td>LAX</td>\n",
       "      <td>2023-06-10</td>\n",
       "      <td>199</td>\n",
       "    </tr>\n",
       "    <tr>\n",
       "      <th>1</th>\n",
       "      <td>FL002</td>\n",
       "      <td>LAX</td>\n",
       "      <td>JFK</td>\n",
       "      <td>2023-06-12</td>\n",
       "      <td>149</td>\n",
       "    </tr>\n",
       "    <tr>\n",
       "      <th>2</th>\n",
       "      <td>FL003</td>\n",
       "      <td>JFK</td>\n",
       "      <td>SFO</td>\n",
       "      <td>2023-06-10</td>\n",
       "      <td>179</td>\n",
       "    </tr>\n",
       "    <tr>\n",
       "      <th>3</th>\n",
       "      <td>FL004</td>\n",
       "      <td>SFO</td>\n",
       "      <td>JFK</td>\n",
       "      <td>2023-06-15</td>\n",
       "      <td>220</td>\n",
       "    </tr>\n",
       "    <tr>\n",
       "      <th>4</th>\n",
       "      <td>FL005</td>\n",
       "      <td>JFK</td>\n",
       "      <td>ORD</td>\n",
       "      <td>2023-06-11</td>\n",
       "      <td>190</td>\n",
       "    </tr>\n",
       "  </tbody>\n",
       "</table>\n",
       "</div>"
      ],
      "text/plain": [
       "  FlightNumber Origin Destination        Date  Seats\n",
       "0        FL001    JFK         LAX  2023-06-10    199\n",
       "1        FL002    LAX         JFK  2023-06-12    149\n",
       "2        FL003    JFK         SFO  2023-06-10    179\n",
       "3        FL004    SFO         JFK  2023-06-15    220\n",
       "4        FL005    JFK         ORD  2023-06-11    190"
      ]
     },
     "execution_count": 19,
     "metadata": {},
     "output_type": "execute_result"
    }
   ],
   "source": [
    "flights.head()"
   ]
  },
  {
   "cell_type": "code",
   "execution_count": 20,
   "metadata": {},
   "outputs": [],
   "source": [
    "def update_seat_number():\n",
    "    global bookings\n",
    "    \n",
    "    booking_id = input(\"Booking ID? \")\n",
    "    \n",
    "    if booking_id not in bookings['BookingID'].values:\n",
    "        print(\"Invalid Booking ID\")\n",
    "        return\n",
    "    \n",
    "    new_seat_number = input(\"New seat number? \")\n",
    "    flight_number = bookings.loc[bookings['BookingID'] == booking_id,  'FlightNumber'].values[0]\n",
    "\n",
    "    if bookings[(bookings['BookingID'] != booking_id) & (bookings['FlightNumber'] == flight_number) & (bookings['SeatNumber'] == new_seat_number)].shape[0] > 0:\n",
    "        print(\"Seat number is already booked. Please choose another seat.\")\n",
    "        return\n",
    "    \n",
    "    bookings.loc[bookings['BookingID'] == booking_id, 'SeatNumber'] = new_seat_number\n",
    "    \n",
    "    print(\"Seat number updated successfully.\")"
   ]
  },
  {
   "cell_type": "code",
   "execution_count": 21,
   "metadata": {},
   "outputs": [
    {
     "name": "stdout",
     "output_type": "stream",
     "text": [
      "Invalid Booking ID\n"
     ]
    }
   ],
   "source": [
    "update_seat_number()"
   ]
  },
  {
   "cell_type": "code",
   "execution_count": 22,
   "metadata": {},
   "outputs": [
    {
     "data": {
      "text/html": [
       "<div>\n",
       "<style scoped>\n",
       "    .dataframe tbody tr th:only-of-type {\n",
       "        vertical-align: middle;\n",
       "    }\n",
       "\n",
       "    .dataframe tbody tr th {\n",
       "        vertical-align: top;\n",
       "    }\n",
       "\n",
       "    .dataframe thead th {\n",
       "        text-align: right;\n",
       "    }\n",
       "</style>\n",
       "<table border=\"1\" class=\"dataframe\">\n",
       "  <thead>\n",
       "    <tr style=\"text-align: right;\">\n",
       "      <th></th>\n",
       "      <th>BookingID</th>\n",
       "      <th>FlightNumber</th>\n",
       "      <th>SeatNumber</th>\n",
       "    </tr>\n",
       "  </thead>\n",
       "  <tbody>\n",
       "    <tr>\n",
       "      <th>1</th>\n",
       "      <td>B002</td>\n",
       "      <td>FL002</td>\n",
       "      <td>8</td>\n",
       "    </tr>\n",
       "    <tr>\n",
       "      <th>2</th>\n",
       "      <td>B003</td>\n",
       "      <td>FL003</td>\n",
       "      <td>15</td>\n",
       "    </tr>\n",
       "    <tr>\n",
       "      <th>3</th>\n",
       "      <td>B004</td>\n",
       "      <td>FL001</td>\n",
       "      <td>1</td>\n",
       "    </tr>\n",
       "  </tbody>\n",
       "</table>\n",
       "</div>"
      ],
      "text/plain": [
       "  BookingID FlightNumber SeatNumber\n",
       "1      B002        FL002          8\n",
       "2      B003        FL003         15\n",
       "3      B004        FL001          1"
      ]
     },
     "execution_count": 22,
     "metadata": {},
     "output_type": "execute_result"
    }
   ],
   "source": [
    "bookings"
   ]
  },
  {
   "cell_type": "code",
   "execution_count": 58,
   "metadata": {},
   "outputs": [],
   "source": [
    "def flight_report():\n",
    "    global selected_flight\n",
    "\n",
    "    flight_number = selected_flight['FlightNumber'].values[0]\n",
    "    booked_seats = bookings[bookings['FlightNumber']==flight_number].shape[0]\n",
    "    total_seats = flights.loc[flights['FlightNumber']==flight_number, 'Seats'].values[0]\n",
    "\n",
    "    flight_occupancy_rate = (booked_seats*100)/(booked_seats + total_seats)\n",
    "    print('Flight Occupancy Rate of',flight_number,'is',flight_occupancy_rate,'%')\n",
    "    print('Most popular route:',bookings['FlightNumber'].value_counts().index[0])\n"
   ]
  },
  {
   "cell_type": "code",
   "execution_count": 59,
   "metadata": {},
   "outputs": [
    {
     "name": "stdout",
     "output_type": "stream",
     "text": [
      "Flight Occupancy Rate of FL004 is 2.727272727272727 %\n",
      "Most popular route: FL004\n"
     ]
    }
   ],
   "source": [
    "flight_report()"
   ]
  },
  {
   "cell_type": "code",
   "execution_count": null,
   "metadata": {},
   "outputs": [],
   "source": []
  }
 ],
 "metadata": {
  "kernelspec": {
   "display_name": "base",
   "language": "python",
   "name": "python3"
  },
  "language_info": {
   "codemirror_mode": {
    "name": "ipython",
    "version": 3
   },
   "file_extension": ".py",
   "mimetype": "text/x-python",
   "name": "python",
   "nbconvert_exporter": "python",
   "pygments_lexer": "ipython3",
   "version": "3.10.9"
  },
  "orig_nbformat": 4
 },
 "nbformat": 4,
 "nbformat_minor": 2
}
